{
 "cells": [
  {
   "cell_type": "code",
   "execution_count": 5,
   "metadata": {},
   "outputs": [],
   "source": [
    "# Work with an in-memory SQLite database again\n",
    "import sqlite3\n",
    "#first the connection\n",
    "connection = sqlite3.connect(':memory:')\n",
    "table = 'CREATE TABLE files (id integer primary key, path TEXT, bytes INTEGER)'\n",
    "#second the cursor connection\n",
    "cursor = connection.cursor()\n",
    "#third the query saved in table variable\n",
    "cursor.execute(table)\n",
    "#fourth the commit\n",
    "connection.commit()"
   ]
  },
  {
   "cell_type": "code",
   "execution_count": 12,
   "metadata": {},
   "outputs": [],
   "source": [
    "#import a module  my_files.py which holds a list of tuples called \"files\" previosly created with generate_my_files.py\n",
    "from my_files import files\n",
    "\n",
    "for metadata in files:\n",
    "#special SQL syntax in SQLite to insert values from Python into the SQL query\n",
    "    query = 'INSERT INTO files(path, bytes) VALUES(?, ?)'\n",
    "    # the execute() method accepts a query and optionally a tuple with values \n",
    "    # corresponding to the question marks in VALUES\n",
    "    cursor.execute(query, metadata)\n",
    "    connection.commit()\n",
    "\n"
   ]
  },
  {
   "cell_type": "code",
   "execution_count": 7,
   "metadata": {},
   "outputs": [
    {
     "name": "stdout",
     "output_type": "stream",
     "text": [
      "(21,)\n"
     ]
    }
   ],
   "source": [
    "#How many records  are in the module\n",
    "query = 'SELECT COUNT(id) from files'\n",
    "\n",
    "for i in cursor.execute(query):\n",
    "    print(i)"
   ]
  },
  {
   "cell_type": "code",
   "execution_count": 10,
   "metadata": {},
   "outputs": [
    {
     "name": "stdout",
     "output_type": "stream",
     "text": [
      "('/Users/nerina/Documents\\\\Adriane_Calaboni_CV.pdf', 159225)\n",
      "('/Users/nerina/Documents\\\\carnetcovid-ana.pdf', 168563)\n",
      "('/Users/nerina/Documents\\\\carnetcovid-nerida.pdf', 168688)\n",
      "('/Users/nerina/Documents\\\\CartaPresentacion-Natura2023-NeridaHV.pdf', 154141)\n",
      "('/Users/nerina/Documents\\\\Certificado_javacoursera.pdf', 321600)\n",
      "('/Users/nerina/Documents\\\\Certificado_POO1coursera.pdf', 417881)\n",
      "('/Users/nerina/Documents\\\\circulo-desafio-colisiones.html', 1854)\n",
      "('/Users/nerina/Documents\\\\CURRÍCULUM VITAE_2023-Enero.docx.pdf', 170052)\n",
      "('/Users/nerina/Documents\\\\CV Nerida HV 2022.docx', 40216)\n",
      "('/Users/nerina/Documents\\\\CV Nerida HV 2022.pdf', 255361)\n"
     ]
    }
   ],
   "source": [
    "#\n",
    "query = 'SELECT path,bytes FROM files WHERE bytes>1000 LIMIT(10)'\n",
    "for i in cursor.execute(query):\n",
    "    print(i)"
   ]
  },
  {
   "cell_type": "code",
   "execution_count": 11,
   "metadata": {},
   "outputs": [
    {
     "name": "stdout",
     "output_type": "stream",
     "text": [
      "('/Users/nerina/Documents\\\\Adriane_Calaboni_CV.pdf', 159225)\n",
      "('/Users/nerina/Documents\\\\carnetcovid-ana.pdf', 168563)\n",
      "('/Users/nerina/Documents\\\\carnetcovid-nerida.pdf', 168688)\n",
      "('/Users/nerina/Documents\\\\CartaPresentacion-Natura2023-NeridaHV.pdf', 154141)\n",
      "('/Users/nerina/Documents\\\\Certificado_javacoursera.pdf', 321600)\n",
      "('/Users/nerina/Documents\\\\Certificado_POO1coursera.pdf', 417881)\n",
      "('/Users/nerina/Documents\\\\CURRÍCULUM VITAE_2023-Enero.docx.pdf', 170052)\n",
      "('/Users/nerina/Documents\\\\CV Nerida HV 2022.pdf', 255361)\n",
      "('/Users/nerina/Documents\\\\CV Nerida HV 2023.pdf', 177399)\n"
     ]
    }
   ],
   "source": [
    "#finding files to end in .pdf\n",
    "query = \"\"\"\n",
    "SELECT path,bytes FROM files \n",
    "    WHERE path LIKE '%pdf%'\n",
    "\"\"\"\n",
    "for i in cursor.execute(query):\n",
    "    print(i)"
   ]
  }
 ],
 "metadata": {
  "kernelspec": {
   "display_name": "Python 3",
   "language": "python",
   "name": "python3"
  },
  "language_info": {
   "codemirror_mode": {
    "name": "ipython",
    "version": 3
   },
   "file_extension": ".py",
   "mimetype": "text/x-python",
   "name": "python",
   "nbconvert_exporter": "python",
   "pygments_lexer": "ipython3",
   "version": "3.10.5"
  },
  "orig_nbformat": 4
 },
 "nbformat": 4,
 "nbformat_minor": 2
}
